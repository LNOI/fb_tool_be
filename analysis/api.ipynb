{
 "cells": [
  {
   "cell_type": "code",
   "execution_count": 6,
   "metadata": {},
   "outputs": [],
   "source": [
    "import requests\n",
    "from pprint import pprint\n",
    "user_root_id = \"00000000-0000-0000-0000-000000000000\""
   ]
  },
  {
   "cell_type": "code",
   "execution_count": null,
   "metadata": {},
   "outputs": [],
   "source": [
    "resp = requests.get(f\"http://localhost:8001/user/{user_root_id}/groups\")\n",
    "pprint(resp.json())"
   ]
  },
  {
   "cell_type": "code",
   "execution_count": null,
   "metadata": {},
   "outputs": [],
   "source": [
    "resp = requests.get(f\"http://localhost:8001/user/{user_root_id}/groups\")\n",
    "pprint(resp.json())"
   ]
  },
  {
   "cell_type": "code",
   "execution_count": 8,
   "metadata": {},
   "outputs": [
    {
     "name": "stdout",
     "output_type": "stream",
     "text": [
      "[{'group_id': '43159e2e-32c3-4821-8fac-23d29c5acce9',\n",
      "  'id': 'be64c02b-4c94-4d39-9a52-8d3340125d09',\n",
      "  'last_sync': '2024-09-01T15:51:31.927823',\n",
      "  'link_images': '{https://scontent.fhan3-3.fna.fbcdn.net/v/t39.30808-6/457095438_1022584509339013_1851598589324999428_n.jpg?_nc_cat=101&ccb=1-7&_nc_sid=aa7b47&_nc_ohc=wyhSbe8gO2wQ7kNvgE279QS&_nc_ht=scontent.fhan3-3.fna&_nc_gid=Ahg0cumMHue08IxFG0YrAiz&oh=00_AYBGKaDIJ4na_RkNe5w2aL1hO7pBDtGzBpz6TpcI6eFHuQ&oe=66DA07BE,https://scontent.fhan4-3.fna.fbcdn.net/v/t39.30808-6/457362953_1022584602672337_955689623116019888_n.jpg?stp=dst-jpg_p843x403&_nc_cat=110&ccb=1-7&_nc_sid=aa7b47&_nc_ohc=x83fqSz9kdgQ7kNvgFCsRiZ&_nc_ht=scontent.fhan4-3.fna&_nc_gid=Ahg0cumMHue08IxFG0YrAiz&oh=00_AYC1URhGiHEFxyj2WdYXrQ4Ofh386QXex5RIO_ILk6w01Q&oe=66D9ED84,https://scontent.fhan4-3.fna.fbcdn.net/v/t39.30808-6/457267258_1022584636005667_6336438424963321989_n.jpg?_nc_cat=100&ccb=1-7&_nc_sid=aa7b47&_nc_ohc=qD8XsHhNZpYQ7kNvgGAYLOq&_nc_ht=scontent.fhan4-3.fna&_nc_gid=Ahg0cumMHue08IxFG0YrAiz&oh=00_AYCUzAMSRpXSFhfzUw8ws-usQqtf4TEjhLC9asawnfXfhw&oe=66DA1370,https://scontent.fhan3-3.fna.fbcdn.net/v/t39.30808-6/457386350_1022584682672329_2683909819911252742_n.jpg?_nc_cat=111&ccb=1-7&_nc_sid=aa7b47&_nc_ohc=bnbsugt_U0IQ7kNvgE4Z17N&_nc_ht=scontent.fhan3-3.fna&_nc_gid=Ahg0cumMHue08IxFG0YrAiz&oh=00_AYCLxxjfmvCvb2gVO5S-aPZzNlnOfVVzmYq0iS5paMRbFA&oe=66D9F7E5,https://scontent.fhan4-5.fna.fbcdn.net/v/t39.30808-6/457358449_1022584739338990_4512681121649317992_n.jpg?_nc_cat=102&ccb=1-7&_nc_sid=aa7b47&_nc_ohc=dCGz2UND6-0Q7kNvgEa-AKT&_nc_ht=scontent.fhan4-5.fna&_nc_gid=Ahg0cumMHue08IxFG0YrAiz&oh=00_AYCoyJGRxotjz7nbDhhKWkGfSD0u7dTo6Gvklgf4m6reDA&oe=66D9F77C}',\n",
      "  'link_post': 'https://www.facebook.com/groups/113194777190379/posts/934154408427741',\n",
      "  'number_of_reaction': None,\n",
      "  'owner_link': 'https://www.facebook.com/100047624213727',\n",
      "  'owner_name': 'Phan Thị Thương',\n",
      "  'post_date': None,\n",
      "  'title': 'Cho thuê ngắn hạn, dài hạn\\n'\n",
      "           '- Vị trí: Cách Mạng Tháng 8, Tân Bình\\n'\n",
      "           '- Loại: Penhouse 2PN, 1WC\\n'\n",
      "           '- Giá thuê: Inbox\\n'\n",
      "           '  Ngoài ra, Team có nhận tìm phòng THEO NHU CẦU (MIỄN PHÍ)  ở các '\n",
      "           'quận GIÁP NỘI Ô nữa nhé (Bình  Thạnh, Phú Nhuận, Tân Bình, Q1, Q2 '\n",
      "           ', Q3, Q.Tân Phú,  Gò Vấp,  Bình Tân,  Q4,  Q8 …)\\n'\n",
      "           '$STUDIO \\n'\n",
      "           '$DUPLEX\\n'\n",
      "           '$1 PHÒNG NGỦ\\n'\n",
      "           '$2 PHÒNG NGỦ\\n'\n",
      "           'Zalo : 0773 712 207\\n'\n",
      "           '+5',\n",
      "  'type': None,\n",
      "  'user_id': '00000000-0000-0000-0000-000000000000'},\n",
      " {'group_id': '43159e2e-32c3-4821-8fac-23d29c5acce9',\n",
      "  'id': '5df3e1c6-46ba-4185-a1c5-34e21f50a398',\n",
      "  'last_sync': '2024-09-01T15:38:10.047799',\n",
      "  'link_images': '{}',\n",
      "  'link_post': 'https://www.facebook.com/groups/113194777190379/posts/935809028262279',\n",
      "  'number_of_reaction': None,\n",
      "  'owner_link': 'https://www.facebook.com/100009673325736',\n",
      "  'owner_name': 'Dao Ngoc Nghia',\n",
      "  'post_date': None,\n",
      "  'title': '2PN BAN CÔNG LỚN QUẬN 10\\n'\n",
      "           ' Địa chỉ: 506 3/2 - Quận 10 (ngay cầu vượt 3/2)\\n'\n",
      "           '- Full nội thất cao cấp, mới 100%\\n'\n",
      "           '- Ban công, cửa sổ lớn thoáng mát\\n'\n",
      "           '- Nhà mới, thiết kế hiện đại… Xem thêm\\n'\n",
      "           '+9',\n",
      "  'type': None,\n",
      "  'user_id': '00000000-0000-0000-0000-000000000000'}]\n"
     ]
    }
   ],
   "source": [
    "resp = requests.get(f\"http://localhost:8001/user/00000000-0000-0000-0000-000000000000/groups/43159e2e-32c3-4821-8fac-23d29c5acce9/posts/?s=0&limit=15\")\n",
    "pprint(resp.json())"
   ]
  },
  {
   "cell_type": "code",
   "execution_count": null,
   "metadata": {},
   "outputs": [],
   "source": []
  }
 ],
 "metadata": {
  "kernelspec": {
   "display_name": ".venv",
   "language": "python",
   "name": "python3"
  },
  "language_info": {
   "codemirror_mode": {
    "name": "ipython",
    "version": 3
   },
   "file_extension": ".py",
   "mimetype": "text/x-python",
   "name": "python",
   "nbconvert_exporter": "python",
   "pygments_lexer": "ipython3",
   "version": "3.12.4"
  }
 },
 "nbformat": 4,
 "nbformat_minor": 2
}
