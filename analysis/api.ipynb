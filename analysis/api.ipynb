{
 "cells": [
  {
   "cell_type": "code",
   "execution_count": 2,
   "metadata": {},
   "outputs": [],
   "source": [
    "import requests\n",
    "from pprint import pprint\n",
    "user_root_id = \"00000000-0000-0000-0000-000000000000\""
   ]
  },
  {
   "cell_type": "code",
   "execution_count": null,
   "metadata": {},
   "outputs": [],
   "source": [
    "resp = requests.get(f\"http://localhost:8001/user/{user_root_id}/groups\")\n",
    "pprint(resp.json())"
   ]
  },
  {
   "cell_type": "code",
   "execution_count": null,
   "metadata": {},
   "outputs": [],
   "source": [
    "resp = requests.get(f\"http://localhost:8001/user/{user_root_id}/groups\")\n",
    "pprint(resp.json())"
   ]
  },
  {
   "cell_type": "code",
   "execution_count": 5,
   "metadata": {},
   "outputs": [
    {
     "name": "stdout",
     "output_type": "stream",
     "text": [
      "[]\n"
     ]
    }
   ],
   "source": [
    "resp = requests.get(f\"http://localhost:8001/user/00000000-0000-0000-0000-000000000000/groups/43159e2e-32c3-4821-8fac-23d29c5acce9/posts/?s=0&limit=15\")\n",
    "pprint(resp.json())"
   ]
  },
  {
   "cell_type": "code",
   "execution_count": 6,
   "metadata": {},
   "outputs": [
    {
     "name": "stdout",
     "output_type": "stream",
     "text": [
      "[{'deleted': False,\n",
      "  'description': None,\n",
      "  'id': '1905d210-df1b-47db-b046-88a3a960bd5e',\n",
      "  'is_member': None,\n",
      "  'last_sync': '2024-08-31T11:24:49.735172',\n",
      "  'link': 'https://www.facebook.com/groups/1001044215066281/',\n",
      "  'link_group': None,\n",
      "  'members': ' 525K thành viên ',\n",
      "  'name': 'Tìm phòng trọ - Nhà cho thuê tại TP.HCM',\n",
      "  'post_per_day': ' 10+ bài viết mỗi ngày',\n",
      "  'privacy': 'Công khai ',\n",
      "  'tags': None,\n",
      "  'total_post': 0,\n",
      "  'user_admin': None,\n",
      "  'user_id': '00000000-0000-0000-0000-000000000000'},\n",
      " {'deleted': False,\n",
      "  'description': None,\n",
      "  'id': '11937eb1-e3c8-4600-9911-a9cd42dd7847',\n",
      "  'is_member': None,\n",
      "  'last_sync': '2024-08-31T11:24:49.732364',\n",
      "  'link': 'https://www.facebook.com/groups/181837138156178/',\n",
      "  'link_group': None,\n",
      "  'members': ' 419K thành viên ',\n",
      "  'name': 'Phòng Trọ Sinh Viên TP.HCM',\n",
      "  'post_per_day': ' 10+ bài viết mỗi ngày',\n",
      "  'privacy': 'Công khai ',\n",
      "  'tags': None,\n",
      "  'total_post': 0,\n",
      "  'user_admin': None,\n",
      "  'user_id': '00000000-0000-0000-0000-000000000000'},\n",
      " {'deleted': False,\n",
      "  'description': None,\n",
      "  'id': 'fddaeb03-5bf4-444e-849c-abd5f519e1a7',\n",
      "  'is_member': None,\n",
      "  'last_sync': '2024-08-31T11:24:49.729884',\n",
      "  'link': 'https://www.facebook.com/groups/759109829411311/',\n",
      "  'link_group': None,\n",
      "  'members': ' 66K thành viên ',\n",
      "  'name': 'PHÒNG TRỌ GÒ VẤP GIÁ RẺ',\n",
      "  'post_per_day': ' 10+ bài viết mỗi ngày',\n",
      "  'privacy': 'Công khai ',\n",
      "  'tags': None,\n",
      "  'total_post': 0,\n",
      "  'user_admin': None,\n",
      "  'user_id': '00000000-0000-0000-0000-000000000000'},\n",
      " {'deleted': False,\n",
      "  'description': None,\n",
      "  'id': '507f09c2-0d04-40bc-816f-4d0dd214222e',\n",
      "  'is_member': None,\n",
      "  'last_sync': '2024-08-31T11:13:17.467804',\n",
      "  'link': 'https://www.facebook.com/groups/705272550215622/',\n",
      "  'link_group': None,\n",
      "  'members': ' 25K thành viên ',\n",
      "  'name': 'Phòng trọ bình thạnh giá rẻ',\n",
      "  'post_per_day': ' 10+ bài viết mỗi ngày',\n",
      "  'privacy': 'Công khai ',\n",
      "  'tags': None,\n",
      "  'total_post': 0,\n",
      "  'user_admin': None,\n",
      "  'user_id': '00000000-0000-0000-0000-000000000000'},\n",
      " {'deleted': False,\n",
      "  'description': None,\n",
      "  'id': '80623b64-f83a-4ffe-8c2f-863953fd57e7',\n",
      "  'is_member': None,\n",
      "  'last_sync': '2024-08-31T11:13:17.465348',\n",
      "  'link': 'https://www.facebook.com/groups/q.binhthanh.phongtro/',\n",
      "  'link_group': None,\n",
      "  'members': ' 125K thành viên ',\n",
      "  'name': 'Phòng Trọ Giá Rẻ Bình Thạnh',\n",
      "  'post_per_day': ' 10+ bài viết mỗi ngày',\n",
      "  'privacy': 'Công khai ',\n",
      "  'tags': None,\n",
      "  'total_post': 0,\n",
      "  'user_admin': None,\n",
      "  'user_id': '00000000-0000-0000-0000-000000000000'},\n",
      " {'deleted': False,\n",
      "  'description': None,\n",
      "  'id': 'f977201e-3478-451d-b46d-adfc7c9f1953',\n",
      "  'is_member': None,\n",
      "  'last_sync': '2024-08-31T11:13:17.440098',\n",
      "  'link': 'https://www.facebook.com/groups/binhthanh.phongtrogiare/',\n",
      "  'link_group': None,\n",
      "  'members': ' 253K thành viên ',\n",
      "  'name': 'Phòng Trọ Quận Bình Thạnh Giá rẻ 🤝',\n",
      "  'post_per_day': ' 10+ bài viết mỗi ngày',\n",
      "  'privacy': 'Công khai ',\n",
      "  'tags': None,\n",
      "  'total_post': 2,\n",
      "  'user_admin': None,\n",
      "  'user_id': '00000000-0000-0000-0000-000000000000'}]\n"
     ]
    }
   ],
   "source": [
    "resp = requests.get(f\"http://localhost:8001/user/{user_root_id}/groups\")\n",
    "pprint(resp.json())\n"
   ]
  },
  {
   "cell_type": "code",
   "execution_count": 7,
   "metadata": {},
   "outputs": [],
   "source": [
    "import redis\n",
    "\n",
    "r = redis.Redis(host=\"localhost\", port=6379, db=0)\n"
   ]
  },
  {
   "cell_type": "code",
   "execution_count": 8,
   "metadata": {},
   "outputs": [
    {
     "data": {
      "text/plain": [
       "True"
      ]
     },
     "execution_count": 8,
     "metadata": {},
     "output_type": "execute_result"
    }
   ],
   "source": [
    "r.set(\"foo\", \"bar\")"
   ]
  },
  {
   "cell_type": "code",
   "execution_count": 9,
   "metadata": {},
   "outputs": [
    {
     "data": {
      "text/plain": [
       "b'bar'"
      ]
     },
     "execution_count": 9,
     "metadata": {},
     "output_type": "execute_result"
    }
   ],
   "source": [
    "r.get(\"foo\")"
   ]
  },
  {
   "cell_type": "code",
   "execution_count": null,
   "metadata": {},
   "outputs": [],
   "source": []
  }
 ],
 "metadata": {
  "kernelspec": {
   "display_name": ".venv",
   "language": "python",
   "name": "python3"
  },
  "language_info": {
   "codemirror_mode": {
    "name": "ipython",
    "version": 3
   },
   "file_extension": ".py",
   "mimetype": "text/x-python",
   "name": "python",
   "nbconvert_exporter": "python",
   "pygments_lexer": "ipython3",
   "version": "3.12.4"
  }
 },
 "nbformat": 4,
 "nbformat_minor": 2
}
